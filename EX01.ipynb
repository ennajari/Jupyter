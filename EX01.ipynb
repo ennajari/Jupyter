{
 "cells": [
  {
   "cell_type": "code",
   "execution_count": 8,
   "id": "14fa951d-3165-4cc3-a3ed-06e35970229b",
   "metadata": {},
   "outputs": [
    {
     "name": "stdout",
     "output_type": "stream",
     "text": [
      "Valeur de a: 0.300000000000000\n",
      "Valeur de b: 0.400000000000000\n",
      "Variance de X: 0.810000000000000\n",
      "F(X <= 0) = 0.1\n",
      "F(X <= 1) = 0.400000000000000\n",
      "F(X <= 2) = 0.800000000000000\n",
      "F(X <= 3) = 1.00000000000000\n"
     ]
    },
    {
     "data": {
      "text/plain": [
       "(0.300000000000000,\n",
       " 0.400000000000000,\n",
       " 0.810000000000000,\n",
       " 0.1,\n",
       " 0.400000000000000,\n",
       " 0.800000000000000,\n",
       " 1.00000000000000)"
      ]
     },
     "execution_count": 8,
     "metadata": {},
     "output_type": "execute_result"
    }
   ],
   "source": [
    "from sympy import symbols, Eq, solve\n",
    "\n",
    "# Déclaration des variables pour les probabilités a et b\n",
    "a, b = symbols('a b')\n",
    "\n",
    "# Équations basées sur les informations fournies\n",
    "eq1 = Eq(0.1 + a + b + 0.2, 1)       # La somme des probabilités doit être égale à 1\n",
    "eq2 = Eq(1*a + 2*b + 3*0.2, 1.7)     # La moyenne (espérance) est égale à 1.7\n",
    "\n",
    "# Résolution du système d'équations pour trouver a et b\n",
    "sol = solve((eq1, eq2), (a, b))\n",
    "a_val, b_val = sol[a], sol[b]\n",
    "\n",
    "# Affichage des valeurs de a et b\n",
    "print(f\"Valeur de a: {a_val}\")\n",
    "print(f\"Valeur de b: {b_val}\")\n",
    "\n",
    "# Calcul de la variance\n",
    "E_X = 1.7\n",
    "E_X2 = (0**2 * 0.1) + (1**2 * a_val) + (2**2 * b_val) + (3**2 * 0.2)\n",
    "variance_X = E_X2 - E_X**2\n",
    "\n",
    "# Affichage de la variance\n",
    "print(f\"Variance de X: {variance_X}\")\n",
    "\n",
    "# Calcul de la fonction de répartition\n",
    "F_0 = 0.1\n",
    "F_1 = F_0 + a_val\n",
    "F_2 = F_1 + b_val\n",
    "F_3 = F_2 + 0.2\n",
    "\n",
    "# Affichage de la fonction de répartition\n",
    "print(f\"F(X <= 0) = {F_0}\")\n",
    "print(f\"F(X <= 1) = {F_1}\")\n",
    "print(f\"F(X <= 2) = {F_2}\")\n",
    "print(f\"F(X <= 3) = {F_3}\")\n",
    "\n",
    "# Résultats finaux\n",
    "(a_val, b_val, variance_X, F_0, F_1, F_2, F_3)\n"
   ]
  }
 ],
 "metadata": {
  "kernelspec": {
   "display_name": "Python 3 (ipykernel)",
   "language": "python",
   "name": "python3"
  },
  "language_info": {
   "codemirror_mode": {
    "name": "ipython",
    "version": 3
   },
   "file_extension": ".py",
   "mimetype": "text/x-python",
   "name": "python",
   "nbconvert_exporter": "python",
   "pygments_lexer": "ipython3",
   "version": "3.11.7"
  }
 },
 "nbformat": 4,
 "nbformat_minor": 5
}
