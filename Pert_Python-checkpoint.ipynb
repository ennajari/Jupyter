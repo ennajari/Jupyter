{
 "cells": [
  {
   "cell_type": "code",
   "execution_count": 1,
   "metadata": {},
   "outputs": [
    {
     "ename": "ModuleNotFoundError",
     "evalue": "No module named 'networkx'",
     "output_type": "error",
     "traceback": [
      "\u001b[1;31m---------------------------------------------------------------------------\u001b[0m",
      "\u001b[1;31mModuleNotFoundError\u001b[0m                       Traceback (most recent call last)",
      "Cell \u001b[1;32mIn[1], line 1\u001b[0m\n\u001b[1;32m----> 1\u001b[0m \u001b[38;5;28;01mimport\u001b[39;00m \u001b[38;5;21;01mnetworkx\u001b[39;00m \u001b[38;5;28;01mas\u001b[39;00m \u001b[38;5;21;01mnx\u001b[39;00m\n\u001b[0;32m      2\u001b[0m \u001b[38;5;28;01mimport\u001b[39;00m \u001b[38;5;21;01mmatplotlib\u001b[39;00m\u001b[38;5;21;01m.\u001b[39;00m\u001b[38;5;21;01mpyplot\u001b[39;00m \u001b[38;5;28;01mas\u001b[39;00m \u001b[38;5;21;01mplt\u001b[39;00m\n\u001b[0;32m      4\u001b[0m \u001b[38;5;66;03m# Création du graphe PERT\u001b[39;00m\n",
      "\u001b[1;31mModuleNotFoundError\u001b[0m: No module named 'networkx'"
     ]
    }
   ],
   "source": [
    "import networkx as nx\n",
    "import matplotlib.pyplot as plt\n",
    "\n",
    "# Création du graphe PERT\n",
    "G = nx.DiGraph()\n",
    "\n",
    "# Ajout des tâches et des durées\n",
    "tasks = {\n",
    "    'A': 4, 'B': 2, 'C': 1, 'D': 1, 'E': 2, 'F': 2,\n",
    "    'G': 2, 'H': 10, 'I': 4, 'J': 1\n",
    "}\n",
    "\n",
    "dependencies = {\n",
    "    'A': [], 'B': [], 'C': ['A'], 'D': ['A', 'B'], 'E': ['A'],\n",
    "    'F': ['C'], 'G': ['D', 'F'], 'H': ['E'], 'I': ['G'], 'J': ['H', 'I']\n",
    "}\n",
    "\n",
    "# Ajout des arcs\n",
    "for task, preds in dependencies.items():\n",
    "    for pred in preds:\n",
    "        G.add_edge(pred, task, weight=tasks[task])\n",
    "\n",
    "# Calcul des dates au plus tôt et au plus tard\n",
    "pert_data = nx.algorithms.dag.dag_longest_path_length(G, weight='weight')\n",
    "\n",
    "# Visualisation du graphe\n",
    "pos = nx.spring_layout(G)\n",
    "nx.draw(G, pos, with_labels=True, node_size=2000, node_color='skyblue', font_size=15, font_weight='bold')\n",
    "edge_labels = {(u, v): f'{tasks[v]} jours' for u, v in G.edges()}\n",
    "nx.draw_networkx_edge_labels(G, pos, edge_labels=edge_labels)\n",
    "\n",
    "plt.show()\n"
   ]
  }
 ],
 "metadata": {
  "kernelspec": {
   "display_name": "Python 3",
   "language": "python",
   "name": "python3"
  },
  "language_info": {
   "codemirror_mode": {
    "name": "ipython",
    "version": 3
   },
   "file_extension": ".py",
   "mimetype": "text/x-python",
   "name": "python",
   "nbconvert_exporter": "python",
   "pygments_lexer": "ipython3",
   "version": "3.10.4"
  }
 },
 "nbformat": 4,
 "nbformat_minor": 5
}
