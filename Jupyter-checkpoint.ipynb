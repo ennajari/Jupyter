{
 "cells": [
  {
   "cell_type": "code",
   "execution_count": 16,
   "id": "f0507408-a5ed-444a-addb-9d47e0a45f68",
   "metadata": {},
   "outputs": [],
   "source": [
    "import numpy as np\n",
    "\n",
    "# Définir l'infini\n",
    "Inf = np.inf\n",
    "\n",
    "# Créer la matrice d'adjacence pour le graphe pondéré\n",
    "G = np.array([\n",
    "    [0, 3, 1, Inf, Inf, Inf],\n",
    "    [3, 0, 1, 2, Inf, Inf],\n",
    "    [1, 1, 0, 3, 5, Inf],\n",
    "    [Inf, 2, 3, 0, 1, 3],\n",
    "    [Inf, Inf, 5, 1, 0, 1],\n",
    "    [Inf, Inf, Inf, 3, 1, 0]\n",
    "])"
   ]
  },
  {
   "cell_type": "code",
   "execution_count": 17,
   "id": "cf9e371c-5ef4-4708-bc56-8ecada1be9c5",
   "metadata": {
    "scrolled": true
   },
   "outputs": [],
   "source": [
    "import numpy as np\n",
    "\n",
    "def dijkstraDist(G, depart):\n",
    "    # On récupère le nombre de sommets du graphe\n",
    "    N = np.size(G, 0)\n",
    "    \n",
    "    # Initialisation du tableau des plus courts chemins\n",
    "    # Le booléen pour savoir si le sommet a déjà été sélectionné\n",
    "    pcc = list()\n",
    "    for i in range(N):\n",
    "        pcc.append([float('Inf'), False])\n",
    "    \n",
    "    sommet_u = depart\n",
    "    dist_u = 0\n",
    "    pcc[depart][0] = 0\n",
    "    # Le premier sommet sélectionné est le sommet depart\n",
    "    pcc[depart][1] = True\n",
    "    \n",
    "    # On compte le nombre de sommets sélectionnés\n",
    "    cpt = 0\n",
    "    while cpt != N-1:\n",
    "        # À chaque étape, la solution optimale doit être conservée\n",
    "        # (pour sélection du sommet correspondant à l’étape suivante)\n",
    "        minimum = float('Inf')\n",
    "        # Étape de relâchement\n",
    "        for k in range(N):\n",
    "            # Si le sommet k n’a pas encore été sélectionné\n",
    "            if pcc[k][1] == False:\n",
    "                dist_uv = G[sommet_u][k]\n",
    "                # Distance totale du chemin s -> ... -> u -> v\n",
    "                dist_totale = dist_u + dist_uv\n",
    "                \n",
    "                # Mise à jour du tableau des plus courts chemins\n",
    "                if dist_totale < pcc[k][0]:\n",
    "                    pcc[k][0] = dist_totale\n",
    "                \n",
    "                # Mise à jour de la solution minimale à cette étape\n",
    "                if pcc[k][0] < minimum:\n",
    "                    minimum = pcc[k][0]\n",
    "                    prochain_sommet_select = k\n",
    "        \n",
    "        # On a traité complétement un sommet\n",
    "        cpt = cpt + 1\n",
    "        \n",
    "        # Le sommet à traiter est sélectionné et d[u] est mis à jour\n",
    "        sommet_u = prochain_sommet_select\n",
    "        pcc[sommet_u][1] = True\n",
    "        dist_u = pcc[sommet_u][0]\n",
    "    \n",
    "    return pcc\n"
   ]
  }
 ],
 "metadata": {
  "kernelspec": {
   "display_name": "Python 3 (ipykernel)",
   "language": "python",
   "name": "python3"
  },
  "language_info": {
   "codemirror_mode": {
    "name": "ipython",
    "version": 3
   },
   "file_extension": ".py",
   "mimetype": "text/x-python",
   "name": "python",
   "nbconvert_exporter": "python",
   "pygments_lexer": "ipython3",
   "version": "3.11.7"
  }
 },
 "nbformat": 4,
 "nbformat_minor": 5
}
